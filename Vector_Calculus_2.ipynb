{
  "nbformat": 4,
  "nbformat_minor": 0,
  "metadata": {
    "colab": {
      "provenance": [],
      "authorship_tag": "ABX9TyPBerOcLSTueCOYGjYcsRtk"
    },
    "kernelspec": {
      "name": "python3",
      "display_name": "Python 3"
    },
    "language_info": {
      "name": "python"
    }
  },
  "cells": [
    {
      "cell_type": "code",
      "execution_count": null,
      "metadata": {
        "id": "ZUzYfly9UQ6L"
      },
      "outputs": [],
      "source": [
        "#python\n",
        "#Backpropagation & Automatic Differentiation\n",
        "\n",
        "import torch\n",
        "import torch.nn as nn\n",
        "import torch.optim as optim\n",
        "\n",
        "# Input data: [Distance, Time]\n",
        "X = torch.tensor([[2.0, 5.0],\n",
        "                  [5.0, 10.0],\n",
        "                  [7.0, 12.0]], dtype=torch.float32)\n",
        "\n",
        "# Target output: Fare\n",
        "y = torch.tensor([[100.0],\n",
        "                  [250.0],\n",
        "                  [320.0]], dtype=torch.float32)\n",
        "\n",
        "# Define a simple neural network\n",
        "model = nn.Sequential(\n",
        "    nn.Linear(2, 1)  # input: 2 features (distance, time) → output: 1 fare prediction\n",
        ")\n",
        "\n",
        "# Loss function (how wrong we are)\n",
        "loss_fn = nn.MSELoss()\n",
        "\n",
        "# Optimizer (how we improve)\n",
        "optimizer = optim.SGD(model.parameters(), lr=0.01)\n",
        "\n",
        "# Training loop\n",
        "for epoch in range(200):\n",
        "    y_pred = model(X)                     # Forward pass\n",
        "    loss = loss_fn(y_pred, y)             # Compute loss\n",
        "    optimizer.zero_grad()                 # Reset gradients\n",
        "    loss.backward()                       # Backpropagation (auto differentiation here)\n",
        "    optimizer.step()                      # Update weights\n",
        "\n",
        "    if epoch % 20 == 0:\n",
        "        print(f\"Epoch {epoch}, Loss: {loss.item():.2f}\")\n",
        "\n",
        "# Final prediction\n",
        "new_trip = torch.tensor([[4.0, 8.0]])  # 4 km, 8 min\n",
        "predicted_fare = model(new_trip)\n",
        "print(f\"\\nPredicted Fare for 4 km & 8 min: ₹{predicted_fare.item():.2f}\")\n"
      ]
    }
  ]
}