{
  "nbformat": 4,
  "nbformat_minor": 0,
  "metadata": {
    "colab": {
      "provenance": [],
      "authorship_tag": "ABX9TyO5RUc5YrCF5vk7AYPxVKbs"
    },
    "kernelspec": {
      "name": "python3",
      "display_name": "Python 3"
    },
    "language_info": {
      "name": "python"
    }
  },
  "cells": [
    {
      "cell_type": "code",
      "execution_count": null,
      "metadata": {
        "id": "YYrkkbJZoTNr"
      },
      "outputs": [],
      "source": [
        "#python\n",
        "import numpy as np\n",
        "\n",
        "# A simple square matrix (2x2)\n",
        "A = np.array([[4, 2],\n",
        "              [1, 3]])\n",
        "\n",
        "# Compute eigenvalues and eigenvectors\n",
        "eigenvalues, eigenvectors = np.linalg.eig(A)\n",
        "\n",
        "# Display the results\n",
        "print(\"Matrix A:\")\n",
        "print(A)\n",
        "print(\"\\nEigenvalues:\")\n",
        "print(eigenvalues)\n",
        "print(\"\\nEigenvectors (columns):\")\n",
        "print(eigenvectors)\n"
      ]
    }
  ]
}