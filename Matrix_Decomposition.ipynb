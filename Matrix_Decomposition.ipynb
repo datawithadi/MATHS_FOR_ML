{
  "nbformat": 4,
  "nbformat_minor": 0,
  "metadata": {
    "colab": {
      "provenance": [],
      "authorship_tag": "ABX9TyPGs0QIS5IlcJ2XANReXmN7"
    },
    "kernelspec": {
      "name": "python3",
      "display_name": "Python 3"
    },
    "language_info": {
      "name": "python"
    }
  },
  "cells": [
    {
      "cell_type": "code",
      "execution_count": null,
      "metadata": {
        "id": "YYrkkbJZoTNr"
      },
      "outputs": [],
      "source": [
        "#python\n",
        "import numpy as np\n",
        "\n",
        "#EigenValues and EigenVectors\n",
        "\n",
        "# A simple square matrix (2x2)\n",
        "A = np.array([[4, 2],\n",
        "              [1, 3]])\n",
        "\n",
        "# Compute eigenvalues and eigenvectors\n",
        "eigenvalues, eigenvectors = np.linalg.eig(A)\n",
        "\n",
        "# Display the results\n",
        "print(\"Matrix A:\")\n",
        "print(A)\n",
        "print(\"\\nEigenvalues:\")\n",
        "print(eigenvalues)\n",
        "print(\"\\nEigenvectors (columns):\")\n",
        "print(eigenvectors)\n",
        "\n",
        "#----------------------------------------------\n",
        "\n",
        "#Singular Value Decomposition\n",
        "\n",
        "import numpy as np\n",
        "from numpy.linalg import svd\n",
        "\n",
        "# Step 1: Create the user-movie rating matrix\n",
        "ratings = np.array([\n",
        "    [5, 4, 1, 0],\n",
        "    [4, 5, 1, 0],\n",
        "    [1, 1, 5, 4],\n",
        "    [0, 0, 4, 5]\n",
        "])\n",
        "\n",
        "# Step 2: Perform SVD\n",
        "U, S, VT = svd(ratings)\n",
        "\n",
        "# Step 3: Convert S into a diagonal matrix\n",
        "Sigma = np.diag(S)\n",
        "\n",
        "# Step 4: Reconstruct original matrix (approximation possible with top-k)\n",
        "reconstructed = U @ Sigma @ VT\n",
        "\n",
        "# Display the outputs\n",
        "print(\"U Matrix:\\n\", U)\n",
        "print(\"\\n\")\n",
        "print(\"Sigma:\\n\", Sigma)\n",
        "print(\"\\n\")\n",
        "print(\"VT Matrix:\\n\", VT)\n",
        "print(\"\\n\")\n",
        "print(\"Reconstructed Ratings:\\n\", np.round(reconstructed, 2))\n",
        "\n",
        "\n",
        "\n"
      ]
    }
  ]
}