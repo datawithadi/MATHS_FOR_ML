{
  "nbformat": 4,
  "nbformat_minor": 0,
  "metadata": {
    "colab": {
      "provenance": [],
      "authorship_tag": "ABX9TyNZWNQoLguPUHNTxvlG1YeX"
    },
    "kernelspec": {
      "name": "python3",
      "display_name": "Python 3"
    },
    "language_info": {
      "name": "python"
    }
  },
  "cells": [
    {
      "cell_type": "code",
      "execution_count": null,
      "metadata": {
        "id": "0Msk3n73Z_d_"
      },
      "outputs": [],
      "source": [
        "# Input features and target output\n",
        "x1 = 2.0  # Distance (km)\n",
        "x2 = 5.0  # Time (min)\n",
        "y_true = 100.0  # Actual fare in ₹\n",
        "\n",
        "# Initial parameters (weights and bias)\n",
        "w1 = 1.0\n",
        "w2 = 2.0\n",
        "b = 0.0\n",
        "\n",
        "# Learning rate\n",
        "lr = 0.01\n",
        "\n",
        "# Step 1: Make a prediction\n",
        "y_pred = w1 * x1 + w2 * x2 + b\n",
        "\n",
        "# Step 2: Calculate error and loss (Mean Squared Error)\n",
        "error = y_pred - y_true\n",
        "loss = error ** 2\n",
        "\n",
        "# Step 3: Compute gradients (partial derivatives)\n",
        "grad_w1 = 2 * error * x1\n",
        "grad_w2 = 2 * error * x2\n",
        "grad_b = 2 * error\n",
        "\n",
        "# Step 4: Update parameters\n",
        "w1 = w1 - lr * grad_w1\n",
        "w2 = w2 - lr * grad_w2\n",
        "b = b - lr * grad_b\n",
        "\n",
        "# Print results\n",
        "print(f\"Prediction before update: {y_pred:.2f}\")\n",
        "print(f\"Loss: {loss:.2f}\")\n",
        "print(\"\\nGradients:\")\n",
        "print(f\"  dL/dw1: {grad_w1:.2f}\")\n",
        "print(f\"  dL/dw2: {grad_w2:.2f}\")\n",
        "print(f\"  dL/db : {grad_b:.2f}\")\n",
        "\n",
        "print(\"\\nUpdated Parameters:\")\n",
        "print(f\"  w1 = {w1:.2f}\")\n",
        "print(f\"  w2 = {w2:.2f}\")\n",
        "print(f\"  b  = {b:.2f}\")\n"
      ]
    }
  ]
}