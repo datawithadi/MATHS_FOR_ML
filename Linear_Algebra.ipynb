{
  "nbformat": 4,
  "nbformat_minor": 0,
  "metadata": {
    "colab": {
      "provenance": [],
      "authorship_tag": "ABX9TyMQpW+DasfYd6LeosdfjMw0"
    },
    "kernelspec": {
      "name": "python3",
      "display_name": "Python 3"
    },
    "language_info": {
      "name": "python"
    }
  },
  "cells": [
    {
      "cell_type": "code",
      "execution_count": null,
      "metadata": {
        "id": "50WaoR6TYnoF"
      },
      "outputs": [],
      "source": [
        "#python\n",
        "\n",
        "import numpy as np\n",
        "\n",
        "# Feature matrix (X) - each row is a house, columns are SqFt and Bedrooms\n",
        "X = np.array([\n",
        "    [1200, 3],\n",
        "    [1500, 4],\n",
        "    [1700, 3],\n",
        "    [2000, 5]\n",
        "])\n",
        "\n",
        "# Target vector (y) - House prices\n",
        "y = np.array([200000, 250000, 270000, 350000])\n",
        "\n",
        "# Let's assume some weights and bias\n",
        "weights = np.array([120, 25000])  # Example values\n",
        "bias = 30000\n",
        "\n",
        "# Predicting the house prices\n",
        "predicted_prices = np.dot(X, weights) + bias\n",
        "\n",
        "print(\"Predicted Prices:\")\n",
        "print(predicted_prices)"
      ]
    }
  ]
}