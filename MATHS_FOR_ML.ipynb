{
  "nbformat": 4,
  "nbformat_minor": 0,
  "metadata": {
    "colab": {
      "provenance": [],
      "authorship_tag": "ABX9TyPN1Yr03rjJkiqq52zndGtz"
    },
    "kernelspec": {
      "name": "python3",
      "display_name": "Python 3"
    },
    "language_info": {
      "name": "python"
    }
  },
  "cells": [
    {
      "cell_type": "code",
      "execution_count": 5,
      "metadata": {
        "id": "ja5S5j5fdLpY",
        "outputId": "ced319f0-af1b-4ed3-af09-65b31680ffa4",
        "colab": {
          "base_uri": "https://localhost:8080/"
        }
      },
      "outputs": [
        {
          "output_type": "stream",
          "name": "stdout",
          "text": [
            "review of the dataset:\n",
            "   SquareFootage  Bedrooms  LocationScore   Price\n",
            "0           2000         3              8  500000\n",
            "1           1500         2              6  350000\n",
            "2           2500         4              9  650000\n",
            "\n",
            " Summary statistics:\n",
            "       SquareFootage  Bedrooms  LocationScore     Price\n",
            "count            3.0       3.0       3.000000       3.0\n",
            "mean          2000.0       3.0       7.666667  500000.0\n",
            "std            500.0       1.0       1.527525  150000.0\n",
            "min           1500.0       2.0       6.000000  350000.0\n",
            "25%           1750.0       2.5       7.000000  425000.0\n",
            "50%           2000.0       3.0       8.000000  500000.0\n",
            "75%           2250.0       3.5       8.500000  575000.0\n",
            "max           2500.0       4.0       9.000000  650000.0\n"
          ]
        }
      ],
      "source": [
        "import pandas as pd\n",
        "\n",
        "# Load the CSV file into a DataFrame\n",
        "df = pd.read_csv('/content/sample_data/housing_data.csv')\n",
        "\n",
        "# Display the first few rows\n",
        "print(\"review of the dataset:\")\n",
        "print(df.head())\n",
        "\n",
        "\n",
        "# Summary statistics\n",
        "print(\"\\n Summary statistics:\")\n",
        "print(df.describe())"
      ]
    }
  ]
}