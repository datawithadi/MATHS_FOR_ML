{
  "nbformat": 4,
  "nbformat_minor": 0,
  "metadata": {
    "colab": {
      "provenance": [],
      "authorship_tag": "ABX9TyMKJTrM2+obYw/dMvQwk8W8"
    },
    "kernelspec": {
      "name": "python3",
      "display_name": "Python 3"
    },
    "language_info": {
      "name": "python"
    }
  },
  "cells": [
    {
      "cell_type": "code",
      "execution_count": null,
      "metadata": {
        "id": "JXp-RpyWsegh"
      },
      "outputs": [],
      "source": [
        "import numpy as np\n",
        "from sklearn.decomposition import PCA\n",
        "from sklearn.preprocessing import StandardScaler\n",
        "\n",
        "# Step 1: Data - 3 houses, 2 features\n",
        "X = np.array([[1000, 2],\n",
        "              [1200, 3],\n",
        "              [900, 2]])\n",
        "\n",
        "# Step 2: Standardize the features\n",
        "scaler = StandardScaler()\n",
        "X_scaled = scaler.fit_transform(X)\n",
        "\n",
        "# Step 3: PCA - Reduce to 1 component\n",
        "pca = PCA(n_components=1)\n",
        "X_pca = pca.fit_transform(X_scaled)\n",
        "\n",
        "# Step 4: Print results\n",
        "print(\"Original Shape:\", X.shape)\n",
        "print(\"Transformed Shape:\", X_pca.shape)\n",
        "print(\"Reduced Data:\\n\", X_pca)\n"
      ]
    }
  ]
}