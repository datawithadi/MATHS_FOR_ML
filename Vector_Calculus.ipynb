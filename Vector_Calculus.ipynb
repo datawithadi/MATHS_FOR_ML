{
  "nbformat": 4,
  "nbformat_minor": 0,
  "metadata": {
    "colab": {
      "provenance": [],
      "authorship_tag": "ABX9TyPhpAxi+BYK4PbY4YITnIUw"
    },
    "kernelspec": {
      "name": "python3",
      "display_name": "Python 3"
    },
    "language_info": {
      "name": "python"
    }
  },
  "cells": [
    {
      "cell_type": "code",
      "execution_count": null,
      "metadata": {
        "id": "dbZod3zI4bja"
      },
      "outputs": [],
      "source": [
        "import numpy as np\n",
        "\n",
        "# Features and target\n",
        "X = np.array([[1, 1], [2, 2]])\n",
        "y = np.array([10, 20])\n",
        "\n",
        "# Initial parameters\n",
        "w = np.array([2.0, 3.0])\n",
        "b = 1.0\n",
        "lr = 0.1\n",
        "\n",
        "# Predictions\n",
        "y_pred = X @ w + b\n",
        "errors = y_pred - y\n",
        "\n",
        "# Gradients\n",
        "grad_w = X.T @ errors\n",
        "grad_b = np.sum(errors)\n",
        "\n",
        "# Update\n",
        "w -= lr * grad_w\n",
        "b -= lr * grad_b\n",
        "\n",
        "print(\"Updated weights:\", w)\n",
        "print(\"Updated bias:\", b)\n"
      ]
    }
  ]
}